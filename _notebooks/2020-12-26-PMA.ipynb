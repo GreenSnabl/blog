{
 "cells": [
  {
   "cell_type": "markdown",
   "metadata": {},
   "source": [
    "# \"PMA - Exercises Chapter 03 - Lab 01\"\n",
    "> \"Basic Dynamic Analysis\"\n",
    "\n",
    "- toc: true\n",
    "- branch: master\n",
    "- badges: true\n",
    "- comments: true\n",
    "- categories: [fastpages, jupyter]\n",
    "- image: images/some_folder/your_image.png\n",
    "- hide: false\n",
    "- search_exclude: false"
   ]
  },
  {
   "cell_type": "markdown",
   "metadata": {},
   "source": [
    "# Lab03-01.exe\n",
    "\n",
    "## Static Analysis\n",
    "\n",
    "### `VirusTotal` Results\n",
    "\n",
    "VirusTotal already has a lot information about the given binary, which is not suprising since it's a practice binary provided by `Practical Malware Analysis`.\n",
    "\n",
    "The detection tab is overwhelmingly red and skimming through the outputs different scanners provided, it seems that the binary is a `Windows Trojan` known as `PoisonIvy`.\n",
    "\n",
    "![](img/pma/ch03/ex01_vt_02.png)\n",
    "\n",
    "Looking at the `Behaviour` tab reveals different functionality found in the binary. A DNS request to resolve `www.practicalmalwareanalysis.com`\n",
    "\n",
    "![](img/pma/ch03/ex01_vt_01.png)\n",
    "\n",
    "\n"
   ]
  },
  {
   "cell_type": "markdown",
   "metadata": {},
   "source": [
    "### `strings.exe` Results\n",
    "\n",
    "Running `strings.exe` with default options will result in the following output. Here every string with length &ge; 3 will be registered and printed on stdout. \n",
    "\n",
    "![](img/pma/ch03/ex01_str_01.png)\n",
    "\n",
    "We see that there are a lot of garbage strings and thus increase the minimal string length to 5 by providing the commandline option `-n 5`.\n",
    "\n",
    "\n",
    "The following three screenshots show the most interesting strings.\n",
    "\n",
    "![](img/pma/ch03/ex01_str_02.png)\n",
    "\n",
    "![](img/pma/ch03/ex01_str_03.png)\n",
    "\n",
    "![](img/pma/ch03/ex01_str_04.png)\n",
    "\n",
    "We find\n",
    "\n",
    "* Registry keys\n",
    "    * AutoRun\n",
    "    * Shell / Commandline specific\n",
    "* Username `admin`\n",
    "* An instruction to `CONNECT` to a given `string:int` &rarr; `hostname:port` combination via `HTTP/1.0`."
   ]
  },
  {
   "cell_type": "markdown",
   "metadata": {},
   "source": [
    "\n",
    "![](img/pma/ch03/ex01_str_02.png)\n",
    "\n",
    "![](img/pma/ch03/ex01_str_03.png)\n",
    "\n",
    "![](img/pma/ch03/ex01_str_04.png)"
   ]
  },
  {
   "cell_type": "markdown",
   "metadata": {},
   "source": [
    "### `PEiD` Results\n",
    "\n",
    "\n",
    "![](img/pma/ch03/ex01_peid_01.png)\n",
    "\n",
    "\n",
    "![](img/pma/ch03/ex01_peid_02.png)"
   ]
  },
  {
   "cell_type": "markdown",
   "metadata": {},
   "source": [
    "### `ResourceHacker` Result\n",
    "\n",
    "Opening `Lab03_01.exe` with `ResourceHacker` does not provide any information. Which is obvious since the binary has no resource section.   "
   ]
  },
  {
   "cell_type": "markdown",
   "metadata": {},
   "source": [
    "### `DependencyWalker` Result\n",
    "\n",
    "The analysis of `Lab03-01.exe` with `DependencyWalker` will reveal that the executable imports `KERNEL32.DLL` and makes use of the imported function `ExitProcess`, which is not very interesting.\n",
    "\n",
    "![](img/pma/ch03/ex01_depwalk_01.png)\n",
    "  "
   ]
  }
 ],
 "metadata": {
  "kernelspec": {
   "display_name": "Python 3",
   "language": "python",
   "name": "python3"
  },
  "language_info": {
   "codemirror_mode": {
    "name": "ipython",
    "version": 3
   },
   "file_extension": ".py",
   "mimetype": "text/x-python",
   "name": "python",
   "nbconvert_exporter": "python",
   "pygments_lexer": "ipython3",
   "version": "3.7.4"
  }
 },
 "nbformat": 4,
 "nbformat_minor": 4
}
