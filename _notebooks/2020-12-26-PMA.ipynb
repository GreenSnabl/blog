{
 "cells": [
  {
   "cell_type": "markdown",
   "metadata": {},
   "source": [
    "# \"PMA - Exercises Chapter 03 \"\n",
    "> \"Basic Dynamic Analysis\"\n",
    "\n",
    "- toc: true\n",
    "- branch: master\n",
    "- badges: true\n",
    "- comments: true\n",
    "- categories: [fastpages, jupyter]\n",
    "- image: images/some_folder/your_image.png\n",
    "- hide: true\n",
    "- search_exclude: true"
   ]
  },
  {
   "cell_type": "markdown",
   "metadata": {},
   "source": [
    "# Lab03-01.exe\n",
    "\n",
    "## Static Analysis\n",
    "\n",
    "### `VirusTotal` Results\n",
    "\n",
    "![](img/pma/ch03/ex01_vt_01.png)\n",
    "\n",
    "![](img/pma/ch03/ex01_vt_02.png)\n",
    "\n"
   ]
  },
  {
   "cell_type": "markdown",
   "metadata": {},
   "source": [
    "### `strings.exe` Results\n",
    "\n",
    "![](img/pma/ch03/ex01_str_01.png)\n",
    "\n",
    "![](img/pma/ch03/ex01_str_02.png)\n",
    "\n",
    "![](img/pma/ch03/ex01_str_03.png)\n",
    "\n",
    "![](img/pma/ch03/ex01_str_04.png)"
   ]
  },
  {
   "cell_type": "markdown",
   "metadata": {},
   "source": [
    "### `PEiD` Results\n",
    "\n",
    "\n",
    "![](img/pma/ch03/ex01_peid_01.png)"
   ]
  },
  {
   "cell_type": "markdown",
   "metadata": {},
   "source": [
    "### `DependencyWalker` Result\n",
    "\n",
    "The analysis of `Lab03-01.exe` with `DependencyWalker` will reveal that the executable imports `KERNEL32.DLL` and makes use of the imported function `ExitProcess`, which is not very interesting.\n",
    "\n",
    "![](img/pma/ch03/ex01_depwalk_01.png)\n",
    "  "
   ]
  },
  {
   "cell_type": "markdown",
   "metadata": {},
   "source": [
    "### `ResourceHacker` Result\n",
    "\n",
    "Opening `Lab03_01.exe` with `ResourceHacker` does not provide any information.  "
   ]
  }
 ],
 "metadata": {
  "kernelspec": {
   "display_name": "Python 3",
   "language": "python",
   "name": "python3"
  },
  "language_info": {
   "codemirror_mode": {
    "name": "ipython",
    "version": 3
   },
   "file_extension": ".py",
   "mimetype": "text/x-python",
   "name": "python",
   "nbconvert_exporter": "python",
   "pygments_lexer": "ipython3",
   "version": "3.7.4"
  }
 },
 "nbformat": 4,
 "nbformat_minor": 4
}
